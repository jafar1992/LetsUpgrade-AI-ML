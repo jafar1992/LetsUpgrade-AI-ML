{
 "cells": [
  {
   "cell_type": "code",
   "execution_count": 8,
   "metadata": {},
   "outputs": [
    {
     "name": "stdout",
     "output_type": "stream",
     "text": [
      "output for complaex no is 3j\n"
     ]
    }
   ],
   "source": [
    "a=2j\n",
    "b=5j\n",
    "c=b-a\n",
    "print(\"output for complaex no is\",c)"
   ]
  },
  {
   "cell_type": "code",
   "execution_count": null,
   "metadata": {},
   "outputs": [],
   "source": [
    "\n",
    "x=729\n",
    "round(x**(1/3))"
   ]
  },
  {
   "cell_type": "code",
   "execution_count": 31,
   "metadata": {},
   "outputs": [
    {
     "name": "stdout",
     "output_type": "stream",
     "text": [
      "The value of x after swapping is 10\n",
      "The value of y after swapping is 5\n"
     ]
    }
   ],
   "source": [
    "x = 5\n",
    "y = 10\n",
    "\n",
    "temp = x\n",
    "x = y\n",
    "y = temp\n",
    "\n",
    "print('The value of x after swapping is',x)\n",
    "print('The value of y after swapping is',y)"
   ]
  },
  {
   "cell_type": "code",
   "execution_count": 32,
   "metadata": {},
   "outputs": [
    {
     "name": "stdout",
     "output_type": "stream",
     "text": [
      "Before swapping Value of x :  5  and y :  7\n",
      "After swapping Value of x :  7  and y :  5\n"
     ]
    }
   ],
   "source": [
    "x = 5\n",
    "y = 7\n",
    "\n",
    "print(\"Before swapping Value of x : \", x, \" and y : \", y) \n",
    "\n",
    "x, y = y, x \n",
    "   \n",
    "print(\"After swapping Value of x : \", x, \" and y : \", y) "
   ]
  },
  {
   "cell_type": "code",
   "execution_count": 52,
   "metadata": {},
   "outputs": [
    {
     "name": "stdout",
     "output_type": "stream",
     "text": [
      "Temperature of Fahrenhiet in Kelvin is 311.27777777777777\n",
      "Temperature of Fahrenhiet in Celcious is 6.666666666666667\n"
     ]
    }
   ],
   "source": [
    "def Fah_to_Kel(F): \n",
    "    return 273.5 + ((F - 32.0) * (5.0/9.0)) \n",
    "\n",
    "#def fah_to_cel(c):\n",
    "#return (c - 32) * 5 / 9\n",
    "celsius = ((c - 32) * 5) / 9\n",
    "\n",
    "  \n",
    "F = 100\n",
    "c = 44\n",
    "print(\"Temperature of Fahrenhiet in Kelvin is\",Fah_to_Kel(F))\n",
    "print(\"Temperature of Fahrenhiet in Celcious is\",celsius)"
   ]
  },
  {
   "cell_type": "code",
   "execution_count": 64,
   "metadata": {},
   "outputs": [
    {
     "ename": "SyntaxError",
     "evalue": "unexpected EOF while parsing (<ipython-input-64-748451c547ee>, line 9)",
     "output_type": "error",
     "traceback": [
      "\u001b[1;36m  File \u001b[1;32m\"<ipython-input-64-748451c547ee>\"\u001b[1;36m, line \u001b[1;32m9\u001b[0m\n\u001b[1;33m    print(\"This is Dictionary\",type(thisdict)\u001b[0m\n\u001b[1;37m                                             ^\u001b[0m\n\u001b[1;31mSyntaxError\u001b[0m\u001b[1;31m:\u001b[0m unexpected EOF while parsing\n"
     ]
    }
   ],
   "source": [
    "print(\"This is Int\",type(1234))\n",
    "print(\"This is String\",type('ABCD'))\n",
    "print(\"This is Float\",type(12.03))\n",
    "print(\"This is Boolean\",type(False))\n",
    "print(\"This is Tuple\",type(('Apple', 25, 34.5, 'jeff', 'pyton')))\n",
    "print(\"This is List\", type(['Apple', 25, 34.5, 'jeff', 'pyton']))\n",
    "print(\"This is Sets\", type({'Apple', 25, 34.5, 'jeff', 'pyton'}))\n",
    "\n"
   ]
  },
  {
   "cell_type": "markdown",
   "metadata": {},
   "source": [
    "    1. Create a Git Hub Account\n",
    "    2. Create Repository With \"LetsUpgrade AI-ML\"\n",
    "    3. Upload Jupiter Assighnment Files to Newly Created GitHub Repository\n",
    "    4. Share the gitHub Link and submit Assighment"
   ]
  }
 ],
 "metadata": {
  "kernelspec": {
   "display_name": "Python 3",
   "language": "python",
   "name": "python3"
  },
  "language_info": {
   "codemirror_mode": {
    "name": "ipython",
    "version": 3
   },
   "file_extension": ".py",
   "mimetype": "text/x-python",
   "name": "python",
   "nbconvert_exporter": "python",
   "pygments_lexer": "ipython3",
   "version": "3.7.6"
  }
 },
 "nbformat": 4,
 "nbformat_minor": 4
}
