{
 "cells": [
  {
   "cell_type": "code",
   "execution_count": 7,
   "metadata": {},
   "outputs": [
    {
     "name": "stdout",
     "output_type": "stream",
     "text": [
      "<class 'str'>\n",
      "bag,hello,without,world\n"
     ]
    }
   ],
   "source": [
    "# question 2\n",
    "y=(\"without,hello,bag,world\")\n",
    "print(type(y))\n",
    "y=y.split(\",\")\n",
    "y=sorted(y)\n",
    "print(\",\".join(y))"
   ]
  },
  {
   "cell_type": "code",
   "execution_count": 27,
   "metadata": {},
   "outputs": [
    {
     "name": "stdout",
     "output_type": "stream",
     "text": [
      "True\n",
      "<class 'set'>\n",
      "{25, 34.0, 'car'}\n",
      "java\n",
      "python\n",
      "c#\n",
      "{'java', 'python', 'Pearl', 'c#'}\n",
      "{'cycle', 'car', 'bike'}\n",
      "{'train', 'bike', 'bus', 'car', 'truck', 'cycle'}\n",
      "6\n",
      "{'bike', 'bus', 'car', 'truck', 'cycle'}\n",
      "{'bus', 'car', 'truck', 'cycle'}\n"
     ]
    }
   ],
   "source": [
    "# question 3\n",
    "setsamp = {25,\"car\",34.0}\n",
    "print(25 in setsamp) # check if 25 is present\n",
    "print(type(setsamp))\n",
    "print(setsamp)\n",
    "setsample = {\"python\", \"java\", \"c#\"}\n",
    "for x in setsample:\n",
    "  print(x)#, end = ' ')\n",
    "setsample.add(\"Pearl\") # add in list, it will sort automaticsally\n",
    "print(setsample)\n",
    "\n",
    "testupdate = {\"car\", \"bike\", \"cycle\"}\n",
    "print(testupdate)\n",
    "testupdate.update([\"bus\", \"truck\", \"train\"])  # will add multiple items\n",
    "print(testupdate)\n",
    "print(len(testupdate)) # gives length\n",
    "testupdate.remove(\"train\") # remove any item with its content  discard() will do the same\n",
    "print(testupdate)\n",
    "testupdate.pop()\n",
    "print(testupdate)"
   ]
  },
  {
   "cell_type": "code",
   "execution_count": 31,
   "metadata": {},
   "outputs": [
    {
     "name": "stdout",
     "output_type": "stream",
     "text": [
      "[12, 24, 35, 88, 120, 155]\n",
      "[12, 34, 35, 88, 130, 155]\n"
     ]
    }
   ],
   "source": [
    "# question 5\n",
    "mylist = [12, 24, 35, 24, 88, 120, 155, 88, 120, 155]\n",
    "mylist = list(dict.fromkeys(mylist))\n",
    "print(mylist)\n",
    "\n",
    "lis = [12,34,35,34,88,130,155,88,130,155]\n",
    "uni = set(lis)\n",
    "print(sorted(uni))"
   ]
  },
  {
   "cell_type": "code",
   "execution_count": 36,
   "metadata": {},
   "outputs": [
    {
     "name": "stdout",
     "output_type": "stream",
     "text": [
      "The Domain Name is :  yahoo\n"
     ]
    }
   ],
   "source": [
    "# Question 1\n",
    "import re\n",
    "email = \"jafar.h.2012@yahoo.com\"\n",
    "str = \"\"\n",
    "domain = re.findall('@(\\w+)', email)\n",
    "print(\"The Domain Name is : \",str.join(domain))\n",
    "\n"
   ]
  },
  {
   "cell_type": "code",
   "execution_count": 37,
   "metadata": {},
   "outputs": [
    {
     "name": "stdout",
     "output_type": "stream",
     "text": [
      "5\n"
     ]
    }
   ],
   "source": [
    "# question 4\n",
    "lis = [8,2,4,1,3,7,6]\n",
    "n = len(lis)\n",
    "total = (n+1)*(n+2)/2\n",
    "add = sum(lis)\n",
    "val =total - add\n",
    "print(int(val))"
   ]
  },
  {
   "cell_type": "code",
   "execution_count": null,
   "metadata": {},
   "outputs": [],
   "source": []
  }
 ],
 "metadata": {
  "kernelspec": {
   "display_name": "Python 3",
   "language": "python",
   "name": "python3"
  },
  "language_info": {
   "codemirror_mode": {
    "name": "ipython",
    "version": 3
   },
   "file_extension": ".py",
   "mimetype": "text/x-python",
   "name": "python",
   "nbconvert_exporter": "python",
   "pygments_lexer": "ipython3",
   "version": "3.7.6"
  }
 },
 "nbformat": 4,
 "nbformat_minor": 4
}
