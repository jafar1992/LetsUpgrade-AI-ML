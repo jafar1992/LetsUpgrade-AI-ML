{
 "cells": [
  {
   "cell_type": "code",
   "execution_count": 15,
   "metadata": {},
   "outputs": [
    {
     "name": "stdout",
     "output_type": "stream",
     "text": [
      "Age                     -0.159205       0.000000\n",
      "DistanceFromHome        -0.009730       0.518286\n",
      "Education               -0.015111       0.315729\n",
      "EmployeeID              -0.004729       0.753549\n",
      "JobLevel                -0.010290       0.494517\n",
      "MonthlyIncome           -0.031176       0.038427\n",
      "NumCompaniesWorked       0.042232       0.005032\n",
      "PercentSalaryHike        0.032533       0.030743\n",
      "StockOptionLevel        -0.006839       0.649807\n",
      "TotalWorkingYears       -0.170093       0.000000\n",
      "TrainingTimesLastYear   -0.049431       0.001025\n",
      "YearsAtCompany          -0.134392       0.000000\n",
      "YearsSinceLastPromotion -0.033019       0.028330\n",
      "YearsWithCurrManager    -0.156199       0.000000\n"
     ]
    }
   ],
   "source": [
    "import pandas as pd\n",
    "\n",
    "dataset=pd.read_excel(\"general_data.xlsx\",sheet_name=0)\n",
    "#print(dataset.columns)\n",
    "#print(dataset.dtypes)\n",
    "from scipy.stats import pearsonr\n",
    "\n",
    "dr = dataset\n",
    "dr = pd.get_dummies(dataset[\"Attrition\"], drop_first=True)\n",
    "dr.rename(columns={\"Yes\": \"Attrition\"}, inplace =True)\n",
    "ned = dataset.columns.drop([\"EmployeeCount\",\"StandardHours\",])\n",
    "dataset['NumCompaniesWorked']=dataset['NumCompaniesWorked'].fillna(2.6948303347756775)\n",
    "dataset['TotalWorkingYears']=dataset['TotalWorkingYears'].fillna(11.68)\n",
    "column_1 = dr[\"Attrition\"]\n",
    "\n",
    "for n in ned:    \n",
    "    if dataset[n].dtypes == \"int64\" or dataset[n].dtypes==\"float64\":\n",
    "        column_2 = dataset[n]\n",
    "        #correlation = column_1.corr(column_2)\n",
    "        stats, p=pearsonr(column_1, column_2)\n",
    "        #print(f\"{n}===\", stats, p)\n",
    "        print('{:<23}{:>10f}{:>15f}'.format(n,stats,p))"
   ]
  },
  {
   "cell_type": "markdown",
   "metadata": {},
   "source": [
    "# The inference of the above analysis are as follows:\n",
    "Attrition & DistanceFromHome:\n",
    "As r = -0.009, there’s low negative correlation between Attrition and DistanceFromHome\n",
    "As the P value of 0.518 is > 0.05, we are accepting H0 and hence there’s no significant correlation between Attrition & DistanceFromHome\n",
    "Attrition & MonthlyIncome:\n",
    "As r = -0.031, there’s low negative correlation between Attrition and MonthlyIncome\n",
    "As the P value of 0.038 is < 0.05, we are accepting Ha and hence there’s significant correlation between Attrition & MonthlyIncome\n",
    "Attrition & TotalWorkingYears:\n",
    "As r = -0.17, there’s low negative correlation between Attrition and TotalWorkingYears\n",
    "As the P value is < 0.05, we are accepting Ha and hence there’s significant correlation between Attrition & TotalWorkingYears\n",
    "Attrition & YearsAtCompany:\n",
    "As r = -0.1343, there’s low negative correlation between Attrition and YearsAtCompany\n",
    "As the P value is < 0.05, we are accepting Ha and hence there’s significant correlation between Attrition & YearsAtCompany\n",
    "Attrition & YearsWithCurrManager:\n",
    "As r = -0.1561, there’s low negative correlation between Attrition and YearsWithCurrManager\n",
    "As the P value is < 0.05, we are accepting Ha and hence there’s significant correlation between Attrition & YearsWithCurrManager"
   ]
  },
  {
   "cell_type": "code",
   "execution_count": 18,
   "metadata": {},
   "outputs": [
    {
     "name": "stdout",
     "output_type": "stream",
     "text": [
      "-0.009730141010179674 0.5182860428050771\n"
     ]
    }
   ],
   "source": [
    "# Correlation between Attrition & DistancefromHome\n",
    "from scipy.stats import pearsonr\n",
    "dataset['TotalWorkingYears']=dataset['TotalWorkingYears'].fillna(11.28)\n",
    "from sklearn import preprocessing\n",
    "Label_encoder = preprocessing.LabelBinarizer()\n",
    "dataset[\"Attrition\"]=Label_encoder.fit_transform(dataset[\"Attrition\"])\n",
    "dataset.columns\n",
    "stats, p=pearsonr(dataset.Attrition, dataset.DistanceFromHome)\n",
    "print(stats, p)\n",
    "#Analysis\n",
    "#As r = -0.009, there’s low negative correlation between Attrition and DistanceFromHome\n",
    "#As the P value of 0.518 is > 0.05, we are accepting H0 and hence there’s no significant correlation between Attrition & DistanceFromHome"
   ]
  },
  {
   "cell_type": "code",
   "execution_count": 19,
   "metadata": {},
   "outputs": [
    {
     "name": "stdout",
     "output_type": "stream",
     "text": [
      "-0.031176281698115007 0.03842748490600132\n"
     ]
    }
   ],
   "source": [
    "# Correlation between Attrition & MonthlyIncome\n",
    "stats, p=pearsonr(dataset.Attrition, dataset.MonthlyIncome)\n",
    "print(stats, p)\n",
    "#As r = -0.031, there’s low negative correlation between Attrition and MonthlyIncome\n",
    "#As the P value of 0.038 is < 0.05, we are accepting Ha and hence there’s significant correlation between Attrition & MonthlyIncome"
   ]
  },
  {
   "cell_type": "code",
   "execution_count": 20,
   "metadata": {},
   "outputs": [
    {
     "name": "stdout",
     "output_type": "stream",
     "text": [
      "-0.17011136355965176 5.473159751791005e-30\n"
     ]
    }
   ],
   "source": [
    "# Correlation between Attrition & TotalWorkingYears\n",
    "stats, p=pearsonr(dataset.Attrition, dataset.TotalWorkingYears)\n",
    "print(stats, p)\n",
    "#As r = -0.17, there’s low negative correlation between Attrition and TotalWorkingYears\n",
    "#As the P value is < 0.05, we are accepting Ha and hence there’s significant correlation between Attrition & TotalWorkingYears"
   ]
  },
  {
   "cell_type": "code",
   "execution_count": 21,
   "metadata": {},
   "outputs": [
    {
     "name": "stdout",
     "output_type": "stream",
     "text": [
      "-0.1343922139899772 3.1638831224877484e-19\n"
     ]
    }
   ],
   "source": [
    "# Correlation between Attrition & YearsAtCompany\n",
    "stats, p=pearsonr(dataset.Attrition, dataset.YearsAtCompany)\n",
    "print(stats, p)\n",
    "#As r = -0.1343, there’s low negative correlation between Attrition and YearsAtCompany\n",
    "#As the P value is < 0.05, we are accepting Ha and hence there’s significant correlation between Attrition & YearsAtCompany"
   ]
  },
  {
   "cell_type": "code",
   "execution_count": 22,
   "metadata": {},
   "outputs": [
    {
     "name": "stdout",
     "output_type": "stream",
     "text": [
      "-0.15619931590162847 1.7339322652896276e-25\n"
     ]
    }
   ],
   "source": [
    "# Correlation between Attrition & YearsWithCurrManager\n",
    "stats, p=pearsonr(dataset.Attrition, dataset.YearsWithCurrManager)\n",
    "print(stats, p)\n",
    "#As r = -0.1561, there’s low negative correlation between Attrition and YearsWithCurrManager\n",
    "#As the P value is < 0.05, we are accepting Ha and hence there’s significant correlation between Attrition & YearsWithCurrManager"
   ]
  },
  {
   "cell_type": "code",
   "execution_count": null,
   "metadata": {},
   "outputs": [],
   "source": []
  }
 ],
 "metadata": {
  "kernelspec": {
   "display_name": "Python 3",
   "language": "python",
   "name": "python3"
  },
  "language_info": {
   "codemirror_mode": {
    "name": "ipython",
    "version": 3
   },
   "file_extension": ".py",
   "mimetype": "text/x-python",
   "name": "python",
   "nbconvert_exporter": "python",
   "pygments_lexer": "ipython3",
   "version": "3.7.6"
  }
 },
 "nbformat": 4,
 "nbformat_minor": 4
}
