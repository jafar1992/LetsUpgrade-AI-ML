{
 "cells": [
  {
   "cell_type": "markdown",
   "metadata": {},
   "source": [
    "# Personal Loan Assighnment "
   ]
  },
  {
   "cell_type": "code",
   "execution_count": 2,
   "metadata": {},
   "outputs": [],
   "source": [
    "import pandas as pd\n",
    "import numpy as np\n",
    "from sklearn import tree\n",
    "from sklearn import preprocessing\n",
    "import matplotlib.pyplot\n",
    "import seaborn as sns"
   ]
  },
  {
   "cell_type": "code",
   "execution_count": 4,
   "metadata": {},
   "outputs": [
    {
     "data": {
      "text/plain": [
       "Index(['ID', 'Age', 'Experience', 'Income', 'ZIP Code', 'Family', 'CCAvg',\n",
       "       'Education', 'Mortgage', 'Personal Loan', 'Securities Account',\n",
       "       'CD Account', 'Online', 'CreditCard'],\n",
       "      dtype='object')"
      ]
     },
     "execution_count": 4,
     "metadata": {},
     "output_type": "execute_result"
    }
   ],
   "source": [
    "dataset = pd.read_excel(\"Bank_Personal_Loan_Modelling.xlsx\",sheet_name=1)\n",
    "dataset.columns"
   ]
  },
  {
   "cell_type": "code",
   "execution_count": 5,
   "metadata": {},
   "outputs": [],
   "source": [
    "dataset1 = dataset.drop([\"ID\",\"ZIP Code\"],axis=1)"
   ]
  },
  {
   "cell_type": "code",
   "execution_count": 6,
   "metadata": {},
   "outputs": [],
   "source": [
    "dataset2 = dataset1.dropna()"
   ]
  },
  {
   "cell_type": "code",
   "execution_count": 8,
   "metadata": {},
   "outputs": [],
   "source": [
    "dataset3 = dataset2.drop_duplicates()"
   ]
  },
  {
   "cell_type": "code",
   "execution_count": 12,
   "metadata": {},
   "outputs": [],
   "source": [
    "from sklearn.ensemble import RandomForestClassifier"
   ]
  },
  {
   "cell_type": "code",
   "execution_count": 13,
   "metadata": {},
   "outputs": [],
   "source": [
    "import numpy as np"
   ]
  },
  {
   "cell_type": "code",
   "execution_count": 16,
   "metadata": {},
   "outputs": [
    {
     "name": "stderr",
     "output_type": "stream",
     "text": [
      "C:\\Users\\jhussain\\Anaconda3\\lib\\site-packages\\ipykernel_launcher.py:1: SettingWithCopyWarning: \n",
      "A value is trying to be set on a copy of a slice from a DataFrame.\n",
      "Try using .loc[row_indexer,col_indexer] = value instead\n",
      "\n",
      "See the caveats in the documentation: https://pandas.pydata.org/pandas-docs/stable/user_guide/indexing.html#returning-a-view-versus-a-copy\n",
      "  \"\"\"Entry point for launching an IPython kernel.\n"
     ]
    }
   ],
   "source": [
    "dataset3[\"CCAvg\"]=np.round(dataset3[\"CCAvg\"])"
   ]
  },
  {
   "cell_type": "code",
   "execution_count": 19,
   "metadata": {},
   "outputs": [],
   "source": [
    "rf_model = RandomForestClassifier(n_estimators=1000,max_features=2,oob_score=True)"
   ]
  },
  {
   "cell_type": "code",
   "execution_count": 21,
   "metadata": {},
   "outputs": [],
   "source": [
    "features = ['Age', 'Experience', 'Income', 'Family', 'CCAvg',\n",
    "'Education', 'Mortgage', 'Securities Account',\n",
    "'CD Account', 'Online', 'CreditCard'] # dont need to consider ID & Zip_code"
   ]
  },
  {
   "cell_type": "code",
   "execution_count": 22,
   "metadata": {},
   "outputs": [
    {
     "data": {
      "text/plain": [
       "RandomForestClassifier(bootstrap=True, ccp_alpha=0.0, class_weight=None,\n",
       "                       criterion='gini', max_depth=None, max_features=2,\n",
       "                       max_leaf_nodes=None, max_samples=None,\n",
       "                       min_impurity_decrease=0.0, min_impurity_split=None,\n",
       "                       min_samples_leaf=1, min_samples_split=2,\n",
       "                       min_weight_fraction_leaf=0.0, n_estimators=1000,\n",
       "                       n_jobs=None, oob_score=True, random_state=None,\n",
       "                       verbose=0, warm_start=False)"
      ]
     },
     "execution_count": 22,
     "metadata": {},
     "output_type": "execute_result"
    }
   ],
   "source": [
    "rf_model.fit(X=dataset3[features],y=dataset3[\"Personal Loan\"])"
   ]
  },
  {
   "cell_type": "code",
   "execution_count": 23,
   "metadata": {},
   "outputs": [
    {
     "name": "stdout",
     "output_type": "stream",
     "text": [
      "OOB Accuracy Score:\n",
      "0.986765590535392\n"
     ]
    }
   ],
   "source": [
    "print(\"OOB Accuracy Score:\")\n",
    "print(rf_model.oob_score_)"
   ]
  },
  {
   "cell_type": "code",
   "execution_count": 24,
   "metadata": {},
   "outputs": [
    {
     "name": "stdout",
     "output_type": "stream",
     "text": [
      "Age 0.05056443119272506\n",
      "Experience 0.05045478321246419\n",
      "Income 0.36009630300451856\n",
      "Family 0.10001480414575575\n",
      "CCAvg 0.14228972382681973\n",
      "Education 0.16788693059686943\n",
      "Mortgage 0.04663369371816919\n",
      "Securities Account 0.006411774640056887\n",
      "CD Account 0.05465556281277017\n",
      "Online 0.009939987329209695\n",
      "CreditCard 0.0110520055206412\n"
     ]
    }
   ],
   "source": [
    "for feature, imp in zip(features,rf_model.feature_importances_):\n",
    "    print(feature,imp);"
   ]
  },
  {
   "cell_type": "code",
   "execution_count": 25,
   "metadata": {},
   "outputs": [],
   "source": [
    "#Income, education, CCCAvg are having higher values\n",
    "from sklearn import tree\n",
    "tree_model = tree.DecisionTreeClassifier(max_depth=6,max_leaf_nodes=10)"
   ]
  },
  {
   "cell_type": "code",
   "execution_count": 27,
   "metadata": {},
   "outputs": [
    {
     "data": {
      "text/plain": [
       "DecisionTreeClassifier(ccp_alpha=0.0, class_weight=None, criterion='gini',\n",
       "                       max_depth=6, max_features=None, max_leaf_nodes=10,\n",
       "                       min_impurity_decrease=0.0, min_impurity_split=None,\n",
       "                       min_samples_leaf=1, min_samples_split=2,\n",
       "                       min_weight_fraction_leaf=0.0, presort='deprecated',\n",
       "                       random_state=None, splitter='best')"
      ]
     },
     "execution_count": 27,
     "metadata": {},
     "output_type": "execute_result"
    }
   ],
   "source": [
    "predictors = pd.DataFrame([dataset3[\"Education\"], dataset3[\"CCAvg\"],dataset3[\"Income\"]]).T\n",
    "tree_model.fit(X=predictors, y=dataset3[\"Personal Loan\"])"
   ]
  },
  {
   "cell_type": "code",
   "execution_count": 59,
   "metadata": {},
   "outputs": [],
   "source": [
    "with open(\"Dtreeloan.dot\",'w') as f:\n",
    "    f=tree.export_graphviz(tree_model,feature_names=[\"Income\",\"CCAvg\",\"Education\"],out_file=f);"
   ]
  },
  {
   "cell_type": "markdown",
   "metadata": {},
   "source": [
    "# Rules : \n",
    "1) if the person is having income less than 101.5 then the possibility of getting the loan is No\n",
    "2) if the person is having income greater than 101.5 then the possibility of getting the loan is Yes\n",
    "3) if the CCAvg is Greater than 3.5 & income less than 88.5 the possibility of getting the loan is No\n",
    "4) if Education is in between 1.5 to 2.5 income is Greater than 88.5 and CCAvg is Greater than 3.5 then the possibility of getting the loan is No\n",
    "5) if Education is Less than 1.5 income is Greater than 88.5 and CCAvg is Greater than 3.5 then the possibility of getting the loan is No\n",
    "6) if income is Less than 92.5 Education is in between 1.5 to 2.5 income is Greater than 88.5 and CCAvg is Greater than 3.5 then the possibility of getting the loan is No\n",
    "7) if income is Greater than 92.5 Education is in between 1.5 to 2.5 income is Greater than 88.5 and CCAvg is Greater than 3.5 then the possibility of getting the loan is Yes\n",
    "8) if income is Less than 116.6 and Education is Greater tan 1.5 then the possibility of getting the loan is No\n",
    "9) if income is Grater than 116.6 and Education is Greater tan 1.5 then the possibility of getting the loan is Yes"
   ]
  },
  {
   "cell_type": "markdown",
   "metadata": {},
   "source": [
    "# Attrition Assignment"
   ]
  },
  {
   "cell_type": "code",
   "execution_count": 31,
   "metadata": {},
   "outputs": [],
   "source": [
    "dataset4 = pd.read_csv(\"general_data.csv\")"
   ]
  },
  {
   "cell_type": "code",
   "execution_count": 32,
   "metadata": {},
   "outputs": [
    {
     "data": {
      "text/plain": [
       "Index(['Age', 'Attrition', 'BusinessTravel', 'Department', 'DistanceFromHome',\n",
       "       'Education', 'EducationField', 'EmployeeCount', 'EmployeeID', 'Gender',\n",
       "       'JobLevel', 'JobRole', 'MaritalStatus', 'MonthlyIncome',\n",
       "       'NumCompaniesWorked', 'Over18', 'PercentSalaryHike', 'StandardHours',\n",
       "       'StockOptionLevel', 'TotalWorkingYears', 'TrainingTimesLastYear',\n",
       "       'YearsAtCompany', 'YearsSinceLastPromotion', 'YearsWithCurrManager'],\n",
       "      dtype='object')"
      ]
     },
     "execution_count": 32,
     "metadata": {},
     "output_type": "execute_result"
    }
   ],
   "source": [
    "dataset4.columns"
   ]
  },
  {
   "cell_type": "code",
   "execution_count": 33,
   "metadata": {},
   "outputs": [],
   "source": [
    "from sklearn import preprocessing\n",
    "le = preprocessing.LabelEncoder()"
   ]
  },
  {
   "cell_type": "code",
   "execution_count": 35,
   "metadata": {},
   "outputs": [],
   "source": [
    "dataset4[\"Attrition\"] = le.fit_transform(dataset4[\"Attrition\"])\n",
    "dataset4[\"BusinessTravel\"] = le.fit_transform(dataset4[\"BusinessTravel\"])\n",
    "dataset4[\"Department\"] = le.fit_transform(dataset4[\"Department\"])\n",
    "dataset4[\"EducationField\"] = le.fit_transform(dataset4[\"EducationField\"])\n",
    "dataset4[\"Gender\"] = le.fit_transform(dataset4[\"Gender\"])\n",
    "dataset4[\"MaritalStatus\"] = le.fit_transform(dataset4[\"MaritalStatus\"])\n",
    "dataset4[\"JobRole\"] = le.fit_transform(dataset4[\"JobRole\"])"
   ]
  },
  {
   "cell_type": "code",
   "execution_count": 37,
   "metadata": {},
   "outputs": [],
   "source": [
    "# Cols to drop EmpID, Emp Count, over 18, Std Hrs, \n",
    "dataset5 = dataset4.drop([\"EmployeeCount\",\"EmployeeID\",\"Over18\",\"StandardHours\"],axis=1)"
   ]
  },
  {
   "cell_type": "code",
   "execution_count": 38,
   "metadata": {},
   "outputs": [
    {
     "data": {
      "text/plain": [
       "Index(['Age', 'Attrition', 'BusinessTravel', 'Department', 'DistanceFromHome',\n",
       "       'Education', 'EducationField', 'Gender', 'JobLevel', 'JobRole',\n",
       "       'MaritalStatus', 'MonthlyIncome', 'NumCompaniesWorked',\n",
       "       'PercentSalaryHike', 'StockOptionLevel', 'TotalWorkingYears',\n",
       "       'TrainingTimesLastYear', 'YearsAtCompany', 'YearsSinceLastPromotion',\n",
       "       'YearsWithCurrManager'],\n",
       "      dtype='object')"
      ]
     },
     "execution_count": 38,
     "metadata": {},
     "output_type": "execute_result"
    }
   ],
   "source": [
    "dataset5.columns"
   ]
  },
  {
   "cell_type": "code",
   "execution_count": 39,
   "metadata": {},
   "outputs": [],
   "source": [
    "from sklearn.ensemble import RandomForestClassifier\n",
    "dataset6 = dataset5.dropna()"
   ]
  },
  {
   "cell_type": "code",
   "execution_count": 40,
   "metadata": {},
   "outputs": [],
   "source": [
    "dataset7 = dataset6.drop_duplicates()"
   ]
  },
  {
   "cell_type": "code",
   "execution_count": 42,
   "metadata": {},
   "outputs": [],
   "source": [
    "rf_model = RandomForestClassifier(n_estimators=1000,max_features=2,oob_score=True)"
   ]
  },
  {
   "cell_type": "code",
   "execution_count": 43,
   "metadata": {},
   "outputs": [],
   "source": [
    "features = ['Age', 'BusinessTravel', 'Department', 'DistanceFromHome',\n",
    "'Education', 'EducationField', 'Gender', 'JobLevel', 'JobRole',\n",
    "'MaritalStatus', 'MonthlyIncome', 'NumCompaniesWorked',\n",
    "'PercentSalaryHike', 'StockOptionLevel', 'TotalWorkingYears',\n",
    "'TrainingTimesLastYear', 'YearsAtCompany', 'YearsSinceLastPromotion',\n",
    "'YearsWithCurrManager']"
   ]
  },
  {
   "cell_type": "code",
   "execution_count": 44,
   "metadata": {},
   "outputs": [
    {
     "data": {
      "text/plain": [
       "RandomForestClassifier(bootstrap=True, ccp_alpha=0.0, class_weight=None,\n",
       "                       criterion='gini', max_depth=None, max_features=2,\n",
       "                       max_leaf_nodes=None, max_samples=None,\n",
       "                       min_impurity_decrease=0.0, min_impurity_split=None,\n",
       "                       min_samples_leaf=1, min_samples_split=2,\n",
       "                       min_weight_fraction_leaf=0.0, n_estimators=1000,\n",
       "                       n_jobs=None, oob_score=True, random_state=None,\n",
       "                       verbose=0, warm_start=False)"
      ]
     },
     "execution_count": 44,
     "metadata": {},
     "output_type": "execute_result"
    }
   ],
   "source": [
    "rf_model.fit(X=dataset7[features],y=dataset7[\"Attrition\"])"
   ]
  },
  {
   "cell_type": "code",
   "execution_count": 45,
   "metadata": {},
   "outputs": [
    {
     "name": "stdout",
     "output_type": "stream",
     "text": [
      "OOB Accuracy:\n",
      "0.8442176870748299\n"
     ]
    }
   ],
   "source": [
    "print(\"OOB Accuracy:\")\n",
    "print(rf_model.oob_score_);\n"
   ]
  },
  {
   "cell_type": "code",
   "execution_count": 46,
   "metadata": {},
   "outputs": [
    {
     "name": "stdout",
     "output_type": "stream",
     "text": [
      "Age 0.09810751973081708\n",
      "BusinessTravel 0.028329371110098887\n",
      "Department 0.025991644732995527\n",
      "DistanceFromHome 0.06894895529616415\n",
      "Education 0.04048766252757613\n",
      "EducationField 0.040895349545166354\n",
      "Gender 0.01835577644043388\n",
      "JobLevel 0.03718470068518023\n",
      "JobRole 0.055262128915638184\n",
      "MaritalStatus 0.039232601600015814\n",
      "MonthlyIncome 0.09258989734115623\n",
      "NumCompaniesWorked 0.056080153365786825\n",
      "PercentSalaryHike 0.06540217479653346\n",
      "StockOptionLevel 0.0346203319014777\n",
      "TotalWorkingYears 0.08652777054060415\n",
      "TrainingTimesLastYear 0.04390846618434598\n",
      "YearsAtCompany 0.06910376836116432\n",
      "YearsSinceLastPromotion 0.04413100125862226\n",
      "YearsWithCurrManager 0.054840725666222855\n"
     ]
    }
   ],
   "source": [
    "for feature, imp in zip(features,rf_model.feature_importances_):\n",
    "    print(feature,imp);"
   ]
  },
  {
   "cell_type": "code",
   "execution_count": 47,
   "metadata": {},
   "outputs": [],
   "source": [
    "#Age, MonthlyIncome, TotalWorkingYears are important Variable\n",
    "from sklearn import tree\n",
    "tree_model = tree.DecisionTreeClassifier(max_depth=6,max_leaf_nodes=10)"
   ]
  },
  {
   "cell_type": "code",
   "execution_count": 52,
   "metadata": {},
   "outputs": [],
   "source": [
    "predictors = pd.DataFrame([dataset7[\"TotalWorkingYears\"], dataset7[\"Age\"],dataset7[\"MonthlyIncome\"]]).T\n"
   ]
  },
  {
   "cell_type": "code",
   "execution_count": 54,
   "metadata": {},
   "outputs": [
    {
     "data": {
      "text/plain": [
       "DecisionTreeClassifier(ccp_alpha=0.0, class_weight=None, criterion='gini',\n",
       "                       max_depth=6, max_features=None, max_leaf_nodes=10,\n",
       "                       min_impurity_decrease=0.0, min_impurity_split=None,\n",
       "                       min_samples_leaf=1, min_samples_split=2,\n",
       "                       min_weight_fraction_leaf=0.0, presort='deprecated',\n",
       "                       random_state=None, splitter='best')"
      ]
     },
     "execution_count": 54,
     "metadata": {},
     "output_type": "execute_result"
    }
   ],
   "source": [
    "tree_model.fit(X=predictors, y=dataset7[\"Attrition\"])"
   ]
  },
  {
   "cell_type": "code",
   "execution_count": 57,
   "metadata": {},
   "outputs": [],
   "source": [
    "with open(\"DtreeAttNew.dot\",'w') as f:\n",
    "    f=tree.export_graphviz(tree_model,feature_names=[\"TotalWorkingYears\",\"Age\",\"MonthlyIncome\"],out_file=f);"
   ]
  },
  {
   "cell_type": "markdown",
   "metadata": {},
   "source": [
    "# Rules\n",
    "\n",
    "1) if TotalWorkingYears  is < 1.5 the attrition rate is Less\n",
    "2) Person Whose TotalWorkingYears < 1.5 & Age is > 33.5 their attrition is Yes\n",
    "3) Person Whose TotalWorkingYears < 1.5 & Age is < 33.5 & MonthlyIncome is > 112610.0 their attrition is Yes\n",
    "4) Person Whose TotalWorkingYears < 1.5 & Age is < 33.5 & MonthlyIncome Ranges between  112610.0 & 23140.0 their attrition is No\n",
    "5) Person whose Age is in between the range of 23.5 & 33.5 & MonthlyIncome Ranges between  112610.0 & 23140.0 their attrition is No\n",
    "6) Person Whose MonthlyIncome < 32530.0 & Age is > 23.5 their Attrition is No\n",
    "7) Person Whose MonthlyIncome > 32530.0 & Age is > 23.5 their Attrition is Yes\n",
    "8) Person Whose TotalWorkingYears > 1.5 Age is < 33.5 Attrition is No\n",
    "9) Person Whose TotalWorkingYears is Less than 39 Age is > 33.5  Attrition is Yes\n",
    "10) Person Whose Age is > 33.5 & TotalWorkingYears  < 39.0  & MonthlyIncome is Less than 10300.0 their Attrition is No\n",
    "11) Person Whose Age is > 33.5 & TotalWorkingYears  < 39.0  & MonthlyIncome is Greater than 10300.0 their Attrition is Yes"
   ]
  },
  {
   "cell_type": "markdown",
   "metadata": {},
   "source": [
    "# Titanic"
   ]
  },
  {
   "cell_type": "code",
   "execution_count": 60,
   "metadata": {},
   "outputs": [],
   "source": [
    "titanic_train = pd.read_csv(\"train.csv\")"
   ]
  },
  {
   "cell_type": "code",
   "execution_count": 61,
   "metadata": {},
   "outputs": [
    {
     "data": {
      "text/plain": [
       "32.69985376827896"
      ]
     },
     "execution_count": 61,
     "metadata": {},
     "output_type": "execute_result"
    }
   ],
   "source": [
    "titanic_train[\"Age\"].mean()"
   ]
  },
  {
   "cell_type": "code",
   "execution_count": 62,
   "metadata": {},
   "outputs": [],
   "source": [
    "new_age_var = np.where(titanic_train[\"Age\"].isnull(),32, titanic_train[\"Age\"])"
   ]
  },
  {
   "cell_type": "code",
   "execution_count": 63,
   "metadata": {},
   "outputs": [],
   "source": [
    "titanic_train[\"Age\"] = new_age_var"
   ]
  },
  {
   "cell_type": "code",
   "execution_count": 64,
   "metadata": {},
   "outputs": [],
   "source": [
    "label_encoder = preprocessing.LabelEncoder()\n",
    "encoded_sex=label_encoder.fit_transform(titanic_train[\"Sex\"])"
   ]
  },
  {
   "cell_type": "code",
   "execution_count": 68,
   "metadata": {},
   "outputs": [],
   "source": [
    "import pandas as pd\n",
    "predictors = pd.DataFrame([encoded_sex, titanic_train[\"Pclass\"],titanic_train[\"Age\"], titanic_train[\"Fare\"]]).T"
   ]
  },
  {
   "cell_type": "code",
   "execution_count": 71,
   "metadata": {},
   "outputs": [],
   "source": [
    "tree_model = tree.DecisionTreeClassifier(max_depth=6,max_leaf_nodes=10)"
   ]
  },
  {
   "cell_type": "code",
   "execution_count": 72,
   "metadata": {},
   "outputs": [
    {
     "data": {
      "text/plain": [
       "DecisionTreeClassifier(ccp_alpha=0.0, class_weight=None, criterion='gini',\n",
       "                       max_depth=6, max_features=None, max_leaf_nodes=10,\n",
       "                       min_impurity_decrease=0.0, min_impurity_split=None,\n",
       "                       min_samples_leaf=1, min_samples_split=2,\n",
       "                       min_weight_fraction_leaf=0.0, presort='deprecated',\n",
       "                       random_state=None, splitter='best')"
      ]
     },
     "execution_count": 72,
     "metadata": {},
     "output_type": "execute_result"
    }
   ],
   "source": [
    "tree_model.fit(X=predictors, y=titanic_train[\"Survived\"])"
   ]
  },
  {
   "cell_type": "code",
   "execution_count": 73,
   "metadata": {},
   "outputs": [],
   "source": [
    "with open(\"DtreeTitNew.dot\",'w') as f:\n",
    "    f=tree.export_graphviz(tree_model,feature_names=[\"Sex\",\"Pclass\",\"Age\",\"Fare\"],out_file=f);"
   ]
  },
  {
   "cell_type": "markdown",
   "metadata": {},
   "source": [
    "# Rules\n",
    "1) Person Whose Gender is Female, whose Passenger class is < 2.5 their Survivor Rate is 0\n",
    "2) Person Whose Gender is Male, whose Passenger class is > 2.5 & Fare is < 23.35 their Survivor Rate is 0\n",
    "3) Person Whose Gender is Male, whose Passenger class is > 2.5 & Fare is > 23.35 their Survivor Rate is 1\n",
    "4) Person Whose Gender is Male, whose Passenger class is < 2.5, Age < 6.5, Pclass > 2.5  & Fare is < 20.825 their Survivor Rate is 0\n",
    "5) Person Whose Gender is Male, whose Passenger class is < 2.5, Age < 6.5, Pclass > 2.5  & Fare is > 20.825 their Survivor Rate is 1\n",
    "6) Person Whose Gender is Male, whose Passenger class is > 1.5, Age > 6.5 their Survivor Rate is 1\n",
    "7) Person Whose Gender is Male, whose Passenger class is < 1.5, Age > 36.5 their Survivor Rate is 1\n",
    "8) Person Whose Gender is Male, whose Passenger class is < 1.5, Age < 36.5 & Fare is < 37.812 their Survivor Rate is 0\n",
    "9) Person Whose Gender is Male, whose Passenger class is < 1.5, Age < 36.5 & Fare is > 37.812 their Survivor Rate is 1"
   ]
  },
  {
   "cell_type": "code",
   "execution_count": 74,
   "metadata": {},
   "outputs": [
    {
     "data": {
      "text/plain": [
       "0.8346456692913385"
      ]
     },
     "execution_count": 74,
     "metadata": {},
     "output_type": "execute_result"
    }
   ],
   "source": [
    "tree_model.score(X=predictors,y=titanic_train[\"Survived\"])"
   ]
  },
  {
   "cell_type": "code",
   "execution_count": null,
   "metadata": {},
   "outputs": [],
   "source": [
    "# Model is 83.46 Accurate"
   ]
  },
  {
   "cell_type": "code",
   "execution_count": 77,
   "metadata": {},
   "outputs": [],
   "source": [
    "\n",
    "titanic_test = pd.read_csv(\"test.csv\")"
   ]
  },
  {
   "cell_type": "code",
   "execution_count": 80,
   "metadata": {},
   "outputs": [],
   "source": [
    "new_age_var = np.where(titanic_test[\"Age\"].isnull(),28,titanic_test[\"Age\"])"
   ]
  },
  {
   "cell_type": "code",
   "execution_count": 82,
   "metadata": {},
   "outputs": [],
   "source": [
    "titanic_test[\"Age\"]=new_age_var"
   ]
  },
  {
   "cell_type": "code",
   "execution_count": 83,
   "metadata": {},
   "outputs": [],
   "source": [
    "encoded_sex_test=label_encoder.fit_transform(titanic_test[\"Sex\"])"
   ]
  },
  {
   "cell_type": "code",
   "execution_count": 84,
   "metadata": {},
   "outputs": [],
   "source": [
    "test_features = pd.DataFrame([encoded_sex_test,titanic_test[\"Pclass\"],titanic_test[\"Age\"],titanic_test[\"Fare\"]]).T"
   ]
  },
  {
   "cell_type": "code",
   "execution_count": 85,
   "metadata": {},
   "outputs": [],
   "source": [
    "test_preds=tree_model.predict(X=test_features)"
   ]
  },
  {
   "cell_type": "code",
   "execution_count": 90,
   "metadata": {},
   "outputs": [],
   "source": [
    "predicted_Output = pd.DataFrame({\"PassengerId\":titanic_test[\"PassengerId\"],\"Survived\":test_preds})"
   ]
  },
  {
   "cell_type": "code",
   "execution_count": 91,
   "metadata": {},
   "outputs": [],
   "source": [
    "predicted_Output.to_csv(\"Output.csv\", index=False);"
   ]
  },
  {
   "cell_type": "code",
   "execution_count": null,
   "metadata": {},
   "outputs": [],
   "source": [
    "#whatever we store he result we store in output.csv\n",
    "#Basd on test data set we predicted survived"
   ]
  }
 ],
 "metadata": {
  "kernelspec": {
   "display_name": "Python 3",
   "language": "python",
   "name": "python3"
  },
  "language_info": {
   "codemirror_mode": {
    "name": "ipython",
    "version": 3
   },
   "file_extension": ".py",
   "mimetype": "text/x-python",
   "name": "python",
   "nbconvert_exporter": "python",
   "pygments_lexer": "ipython3",
   "version": "3.7.6"
  }
 },
 "nbformat": 4,
 "nbformat_minor": 4
}
