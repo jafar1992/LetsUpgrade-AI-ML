{
 "cells": [
  {
   "cell_type": "code",
   "execution_count": 2,
   "metadata": {},
   "outputs": [
    {
     "name": "stdout",
     "output_type": "stream",
     "text": [
      "THis is subtraction of complex 570j\n",
      "This is addition of complex no (972+2524j)\n",
      "This is Multiplication of complex no (13+26j)\n",
      "This is Division of complex no (18.037542662116042+22.81911262798635j)\n"
     ]
    }
   ],
   "source": [
    "\n",
    "    subt = 883j-313j\n",
    "print(\"THis is subtraction of complex\", subt)\n",
    "    a1 = 2524j\n",
    "    a2 = 972\n",
    "    a3 = a1+a2\n",
    "print(\"This is addition of complex no\", a3)\n",
    "\n",
    "    a = 6+4j\n",
    "    b = 3.5+2j\n",
    "    c = a*b\n",
    "print(\"This is Multiplication of complex no\", c)\n",
    "\n",
    "    d1,d2=522+848j, 34+4j\n",
    "    d=d1/d2\n",
    "    print(\"This is Division of complex no\", d)\n",
    "    \n",
    "    # Floor Division Operations cannot be performed in complex Numbers\n",
    "    # Modulo Operations cannot be performed with Complex Numbers"
   ]
  },
  {
   "cell_type": "code",
   "execution_count": 4,
   "metadata": {},
   "outputs": [
    {
     "name": "stdout",
     "output_type": "stream",
     "text": [
      "you are Multiplied 1000\n"
     ]
    }
   ],
   "source": [
    "a= 20\n",
    "b=50\n",
    "c= b-a\n",
    "if(c>25):\n",
    "    print(\"you are Multiplied\",a*b)\n",
    "else:\n",
    "    print(\"You are Divided\",a/b)\n"
   ]
  },
  {
   "cell_type": "code",
   "execution_count": 17,
   "metadata": {},
   "outputs": [
    {
     "name": "stdout",
     "output_type": "stream",
     "text": [
      "20\n",
      "28\n",
      "30\n"
     ]
    }
   ],
   "source": [
    "test_list = [12, 10, 5, 6, 3, 8, 20,28,11,30] \n",
    "k=7\n",
    "for i in test_list : \n",
    "  #  if i > k and i % 2 == 0:\n",
    "    if i/2 > k : \n",
    "        print(i)"
   ]
  },
  {
   "cell_type": "code",
   "execution_count": 18,
   "metadata": {},
   "outputs": [
    {
     "name": "stdout",
     "output_type": "stream",
     "text": [
      "1.4641016151377544\n",
      "1.1622776601683795\n",
      "0.4494897427831779\n",
      "0.8284271247461903\n",
      "2.4721359549995796\n",
      "3.2915026221291814\n",
      "3.477225575051661\n"
     ]
    }
   ],
   "source": [
    "for t in test_list:\n",
    "    if t % 2 ==0:\n",
    "        print((t**(1/2))-2)"
   ]
  },
  {
   "cell_type": "markdown",
   "metadata": {},
   "source": [
    "    1. Allow user to genrate a series of Numbers\n",
    "    2. we have 3 arguments in Range, that is (Start, Stop & Step)\n",
    "    3. we can start and stop within the given range\n",
    "    4. forward indexing starts with 0\n",
    "    5. Reverse indexing Starts with -1 as it can get confuse with forward, so it starts with -1\n",
    "    6. we can concatenate 2 range with even steps in it\n",
    "    "
   ]
  },
  {
   "cell_type": "code",
   "execution_count": 19,
   "metadata": {},
   "outputs": [
    {
     "name": "stdout",
     "output_type": "stream",
     "text": [
      "2 4 6 8 10 12 14 16 18 20 22 24 \n",
      "0 4 8 12 16 20 24 28 \n",
      "15 18 21 24 "
     ]
    }
   ],
   "source": [
    "for i in range(2, 25, 2): \n",
    "    print(i, end =\" \") \n",
    "print() \n",
    "  \n",
    "# incremented by 4 \n",
    "for i in range(0, 30, 4): \n",
    "    print(i, end =\" \") \n",
    "print() \n",
    "  \n",
    "# incremented by 3 \n",
    "for i in range(15, 25, 3): \n",
    "    print(i, end =\" \") "
   ]
  },
  {
   "cell_type": "code",
   "execution_count": null,
   "metadata": {},
   "outputs": [],
   "source": []
  }
 ],
 "metadata": {
  "kernelspec": {
   "display_name": "Python 3",
   "language": "python",
   "name": "python3"
  },
  "language_info": {
   "codemirror_mode": {
    "name": "ipython",
    "version": 3
   },
   "file_extension": ".py",
   "mimetype": "text/x-python",
   "name": "python",
   "nbconvert_exporter": "python",
   "pygments_lexer": "ipython3",
   "version": "3.7.6"
  }
 },
 "nbformat": 4,
 "nbformat_minor": 4
}
