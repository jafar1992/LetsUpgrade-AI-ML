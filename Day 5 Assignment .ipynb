{
 "cells": [
  {
   "cell_type": "code",
   "execution_count": 16,
   "metadata": {},
   "outputs": [
    {
     "name": "stdout",
     "output_type": "stream",
     "text": [
      "Python\n",
      "Python\n",
      "Python\n",
      "P\n",
      "g\n",
      "ho\n",
      "St\n",
      "Python String\n",
      "PythonPythonPython\n",
      "jeffrock\n",
      "JEFFROCK\n",
      "jEFFrOCK\n",
      "True\n",
      "Welcome To Python\n",
      "False\n",
      "1\n"
     ]
    }
   ],
   "source": [
    "# Question2 \n",
    "String_var1 = 'Python'\n",
    "print(String_var1)\n",
    "String_var2 = \"Python\"\n",
    "print(String_var2)\n",
    "String_var3 = \"\"\"Python\"\"\"\n",
    "print(String_var3)\n",
    "\n",
    "sample_str = 'Python String'\n",
    "print (sample_str[0])\n",
    "print (sample_str[-1])\n",
    "print (sample_str[3:5])\n",
    "print (sample_str[7:-4])\n",
    "\n",
    "var1 = 'Python'\n",
    "var2 = 'String'\n",
    "print (var1 + \" \"+var2)\n",
    "print (var1*3)\n",
    "\n",
    "var22 = 'JeffRock'\n",
    "print (var22.lower())\n",
    "print (var22.upper())\n",
    "print (var22.swapcase())\n",
    "\n",
    "vartitle = 'welcome to python'\n",
    "print (vartitle.islower())\n",
    "print (vartitle.title())\n",
    "print (vartitle.istitle())\n",
    "\n",
    "vareagle='Eagle Eyes'\n",
    "print (vareagle.count('E',0,5))"
   ]
  },
  {
   "cell_type": "code",
   "execution_count": 17,
   "metadata": {},
   "outputs": [
    {
     "name": "stdout",
     "output_type": "stream",
     "text": [
      "3\n",
      "5\n",
      "7\n",
      "9\n",
      "11\n",
      "13\n",
      "15\n",
      "17\n",
      "19\n",
      "21\n",
      "23\n",
      "25\n",
      "27\n",
      "29\n",
      "31\n",
      "33\n",
      "35\n",
      "37\n",
      "39\n",
      "41\n"
     ]
    }
   ],
   "source": [
    "# Question 1\n",
    "numbers = range(2,100)\n",
    "r=0\n",
    "for n in numbers:\n",
    "    \n",
    "    if n > 2: # skipping 2 since 2 is the only Even Prime Number \n",
    "        for i in range(2, n):\n",
    "            if (n % i) == 0 and i==2:\n",
    "                #print(\"true\")\n",
    "                break\n",
    "        else:\n",
    "            print(n)\n",
    "            r+=1    \n",
    "\n",
    " \n",
    "\n",
    "    if(r==20):\n",
    "        break"
   ]
  },
  {
   "cell_type": "code",
   "execution_count": 26,
   "metadata": {},
   "outputs": [
    {
     "name": "stdout",
     "output_type": "stream",
     "text": [
      "I m malayalam m I  is a palindrome\n"
     ]
    }
   ],
   "source": [
    "#Question 3\n",
    "s1=\"I m malayalam m I\"\n",
    "s2=s1[::-1]\n",
    "if s1==s2:\n",
    "    print(s1,\" is a palindrome\")\n",
    "else:\n",
    "    print(s1,\" is not a palindrome\")\n",
    "         \n",
    "    if(sorted(n)== sorted(names2[i])):\n",
    "        print(\"n is annagram\")\n"
   ]
  },
  {
   "cell_type": "code",
   "execution_count": 51,
   "metadata": {},
   "outputs": [
    {
     "name": "stdout",
     "output_type": "stream",
     "text": [
      "Original String :  Dr. Darshan Ingle@AI-ML Trainer\n",
      "String after Function is Applied :  drdarshaningleaimltrainer\n"
     ]
    }
   ],
   "source": [
    "# Question 4\n",
    "c =\"Dr. Darshan Ingle@AI-ML Trainer\"\n",
    "print (\"Original String : \", c)\n",
    "def remove_unwantd(c):\n",
    "    c = c.replace('.', '').replace(' ', '').replace('@', '').replace('-', '')\n",
    "    return c.lower()\n",
    "\n",
    "print(\"String after Function is Applied : \",remove_unwantd(c))"
   ]
  },
  {
   "cell_type": "code",
   "execution_count": 43,
   "metadata": {},
   "outputs": [
    {
     "ename": "IndentationError",
     "evalue": "expected an indented block (<ipython-input-43-b77bd5862189>, line 8)",
     "output_type": "error",
     "traceback": [
      "\u001b[1;36m  File \u001b[1;32m\"<ipython-input-43-b77bd5862189>\"\u001b[1;36m, line \u001b[1;32m8\u001b[0m\n\u001b[1;33m    return test_string.replace(i, '')\u001b[0m\n\u001b[1;37m         ^\u001b[0m\n\u001b[1;31mIndentationError\u001b[0m\u001b[1;31m:\u001b[0m expected an indented block\n"
     ]
    }
   ],
   "source": [
    "\n",
    "  \n"
   ]
  },
  {
   "cell_type": "raw",
   "metadata": {},
   "source": []
  }
 ],
 "metadata": {
  "kernelspec": {
   "display_name": "Python 3",
   "language": "python",
   "name": "python3"
  },
  "language_info": {
   "codemirror_mode": {
    "name": "ipython",
    "version": 3
   },
   "file_extension": ".py",
   "mimetype": "text/x-python",
   "name": "python",
   "nbconvert_exporter": "python",
   "pygments_lexer": "ipython3",
   "version": "3.7.6"
  }
 },
 "nbformat": 4,
 "nbformat_minor": 4
}
